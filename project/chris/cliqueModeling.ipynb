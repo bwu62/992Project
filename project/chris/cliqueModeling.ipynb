{
 "cells": [
  {
   "cell_type": "code",
   "execution_count": null,
   "metadata": {},
   "outputs": [],
   "source": [
    "import pandas as pd\n",
    "#dfC = pd.read_csv(\"non-cliques.csv\", delimiter=\" \", header=None)\n",
    "dfC = pd.read_csv(\"top700imdb.txt\", header=None)\n",
    "\n",
    "non_cliques = dfC[0].values\n",
    "non_cliques\n",
    "# non_cliques = []\n",
    "# for index, row in dfC.iterrows():\n",
    "#     i = 0\n",
    "#     for col in range(0, 12):\n",
    "#         try:\n",
    "#             if row[col][0] == \"t\":\n",
    "#                 non_cliques.append(row[col])\n",
    "#         except:\n",
    "#             continue\n",
    "# print(len(non_cliques))           \n",
    "# blondieTitles = [\"tt0038368\",\"tt0039201\",\"tt0040174\",\"tt0040174\",\"tt0029927\",\"tt0031106\",\"tt0031108\",\n",
    "#                 \"tt0031108\",\"tt0032261\",\"tt0032262\", \"tt0032263\", \"tt0033403\"]\n",
    "# for title in blondieTitles:\n",
    "#     non_cliques.append(title)\n",
    "# len(non_cliques)"
   ]
  },
  {
   "cell_type": "code",
   "execution_count": null,
   "metadata": {
    "scrolled": true
   },
   "outputs": [],
   "source": [
    "\n",
    "import numpy as np\n",
    "#Add RiffTrax and Wrestling perhaps\n",
    "df1 = pd.read_csv(\"movie.statistics.csv\")\n",
    "df1.index = df1[\"Unnamed: 0\"]\n",
    "df2 = pd.read_csv(\"nodeStats.csv\")\n",
    "df2.index = df2[\"title\"]\n",
    "df = df1.join(df2)\n",
    "\n",
    "df = df[~df.isin([np.nan, np.inf, -np.inf]).any(1)]\n",
    "cutoffValue = df[df[\"cluster\"]==4].sort_values(\"cluster.value\", ascending=False).head(200)[\"cluster.value\"].values[-1]\n",
    "cutoffTwo = df[df[\"cluster\"]==2].sort_values(\"cluster.value\", ascending=False).head(100)[\"cluster.value\"].values[-1]\n",
    "cutoffSeven = df[df[\"cluster\"]==7].sort_values(\"cluster.value\", ascending=False).head(100)[\"cluster.value\"].values[-1]\n",
    "\n",
    "def flagClique(row):\n",
    "    cluster = row[\"cluster\"]\n",
    "    value = row[\"cluster.value\"]\n",
    "    title = row[\"Unnamed: 0\"]\n",
    "    \n",
    "    if cluster in [3, 5]:\n",
    "        return 1\n",
    "    elif cluster==2:\n",
    "        if value < cutoffTwo:\n",
    "            return None\n",
    "        else:\n",
    "            return 1\n",
    "    elif cluster==7:\n",
    "        if value < cutoffSeven:\n",
    "            return None\n",
    "        else:\n",
    "            return 1\n",
    "       \n",
    "    elif title in non_cliques:\n",
    "        return 0\n",
    "    elif cluster==4:\n",
    "        if value < cutoffValue:\n",
    "            return None\n",
    "        else:\n",
    "            return 0\n",
    "    else:\n",
    "        return None\n",
    "df[\"cliqueFlag\"] = df.apply (lambda row: flagClique(row), axis=1)\n",
    "dfTrain = df.dropna()\n",
    "\n",
    "dfTrain"
   ]
  },
  {
   "cell_type": "code",
   "execution_count": null,
   "metadata": {},
   "outputs": [],
   "source": []
  },
  {
   "cell_type": "code",
   "execution_count": 82,
   "metadata": {},
   "outputs": [],
   "source": [
    "from sklearn.linear_model import LogisticRegression\n",
    "dfTrain = dfTrain[~dfTrain.isin([np.nan, np.inf, -np.inf]).any(1)]\n",
    "clf = LogisticRegression(random_state=0, max_iter=1000).fit(dfTrain[[\"degrees\", \"degress.from.tam\", \"coreness\", \"triangles\", \"degMode\", \"degMean\", \"degLogSD\", \"degLogSkew\", \"degLogKurt\"]], dfTrain[\"cliqueFlag\"])"
   ]
  },
  {
   "cell_type": "code",
   "execution_count": 83,
   "metadata": {},
   "outputs": [
    {
     "name": "stdout",
     "output_type": "stream",
     "text": [
      "[[-2.57630170e-02  4.38438663e-02  3.32003578e-02 -1.24979839e-04\n",
      "  -2.23444385e-01  2.10885385e+00 -1.32987434e+00  2.49286406e+00\n",
      "   4.33868275e-01]] [-0.96108656]\n",
      "0.8875\n"
     ]
    }
   ],
   "source": [
    "print(clf.coef_, clf.intercept_)\n",
    "print(clf.score(dfTrain[[\"degrees\", \"degress.from.tam\", \"coreness\", \"triangles\", \"degMode\", \"degMean\", \"degLogSD\", \"degLogSkew\", \"degLogKurt\"]], dfTrain[\"cliqueFlag\"]))"
   ]
  },
  {
   "cell_type": "code",
   "execution_count": null,
   "metadata": {},
   "outputs": [],
   "source": [
    "df[\"predictedClique\"] = clf.predict(df[[\"degrees\", \"degress.from.tam\", \"coreness\", \"triangles\", \"degMode\", \"degMean\", \"degLogSD\", \"degLogSkew\", \"degLogKurt\"]])\n",
    "df"
   ]
  },
  {
   "cell_type": "code",
<<<<<<< HEAD
<<<<<<< HEAD
   "execution_count": null,
   "metadata": {},
   "outputs": [],
=======
   "execution_count": 92,
=======
   "execution_count": 85,
>>>>>>> bee4bcb (restore cliquemodelling notebook)
   "metadata": {},
   "outputs": [
    {
     "data": {
      "text/html": [
       "<div>\n",
       "<style scoped>\n",
       "    .dataframe tbody tr th:only-of-type {\n",
       "        vertical-align: middle;\n",
       "    }\n",
       "\n",
       "    .dataframe tbody tr th {\n",
       "        vertical-align: top;\n",
       "    }\n",
       "\n",
       "    .dataframe thead th {\n",
       "        text-align: right;\n",
       "    }\n",
       "</style>\n",
       "<table border=\"1\" class=\"dataframe\">\n",
       "  <thead>\n",
       "    <tr style=\"text-align: right;\">\n",
       "      <th></th>\n",
       "      <th>Unnamed: 0</th>\n",
       "      <th>degrees</th>\n",
       "      <th>degress.from.tam</th>\n",
       "      <th>coreness</th>\n",
       "      <th>cluster</th>\n",
       "      <th>cluster.value</th>\n",
       "      <th>title</th>\n",
       "      <th>degMode</th>\n",
       "      <th>degMean</th>\n",
       "      <th>degLogSD</th>\n",
       "      <th>degLogSkew</th>\n",
       "      <th>degLogKurt</th>\n",
       "      <th>triangles</th>\n",
       "      <th>cliqueFlag</th>\n",
       "      <th>predictedClique</th>\n",
       "    </tr>\n",
       "    <tr>\n",
       "      <th>Unnamed: 0</th>\n",
       "      <th></th>\n",
       "      <th></th>\n",
       "      <th></th>\n",
       "      <th></th>\n",
       "      <th></th>\n",
       "      <th></th>\n",
       "      <th></th>\n",
       "      <th></th>\n",
       "      <th></th>\n",
       "      <th></th>\n",
       "      <th></th>\n",
       "      <th></th>\n",
       "      <th></th>\n",
       "      <th></th>\n",
       "      <th></th>\n",
       "    </tr>\n",
       "  </thead>\n",
       "  <tbody>\n",
       "    <tr>\n",
       "      <th>tt0038368</th>\n",
       "      <td>tt0038368</td>\n",
       "      <td>268</td>\n",
       "      <td>3.0</td>\n",
       "      <td>194</td>\n",
       "      <td>3</td>\n",
       "      <td>151.034877</td>\n",
       "      <td>tt0038368</td>\n",
       "      <td>5.0</td>\n",
       "      <td>4.563498</td>\n",
       "      <td>4.011348</td>\n",
       "      <td>-0.220772</td>\n",
       "      <td>-1.654735</td>\n",
       "      <td>1020.0</td>\n",
       "      <td>1.0</td>\n",
       "      <td>1.0</td>\n",
       "    </tr>\n",
       "  </tbody>\n",
       "</table>\n",
       "</div>"
      ],
      "text/plain": [
       "           Unnamed: 0  degrees  degress.from.tam  coreness  cluster  \\\n",
       "Unnamed: 0                                                            \n",
       "tt0038368   tt0038368      268               3.0       194        3   \n",
       "\n",
       "            cluster.value      title  degMode   degMean  degLogSD  degLogSkew  \\\n",
       "Unnamed: 0                                                                      \n",
       "tt0038368      151.034877  tt0038368      5.0  4.563498  4.011348   -0.220772   \n",
       "\n",
       "            degLogKurt  triangles  cliqueFlag  predictedClique  \n",
       "Unnamed: 0                                                      \n",
       "tt0038368    -1.654735     1020.0         1.0              1.0  "
      ]
     },
     "execution_count": 85,
     "metadata": {},
     "output_type": "execute_result"
    }
   ],
>>>>>>> 364042e (update)
   "source": [
    "dfTrain[dfTrain[\"Unnamed: 0\"]==\"tt0038368\"]\n",
    "df[df[\"Unnamed: 0\"]==\"tt0038368\"]"
   ]
  },
  {
   "cell_type": "code",
   "execution_count": 88,
   "metadata": {},
   "outputs": [
    {
     "data": {
      "text/plain": [
       "array(['tt0002337', 'tt0002483', 'tt0002605', ..., 'tt9896768',\n",
       "       'tt9898328', 'tt9903348'], dtype=object)"
      ]
     },
     "execution_count": 88,
     "metadata": {},
     "output_type": "execute_result"
    }
   ],
   "source": [
    "pred_non_clique = df[df[\"predictedClique\"]==0][\"Unnamed: 0\"].values\n",
    "pred_non_clique"
   ]
  },
  {
   "cell_type": "code",
   "execution_count": 89,
   "metadata": {},
   "outputs": [],
   "source": [
    "pd.DataFrame(pred_non_clique, columns=[\"pred_non_clique_titles\"]).to_csv(\"pred_non_clique_titles.csv\")"
   ]
  },
  {
   "cell_type": "code",
   "execution_count": 7,
   "metadata": {},
   "outputs": [
    {
     "data": {
      "text/plain": [
       "array(['tt0001230', 'tt0001498', 'tt0002337', ..., 'tt9730696',\n",
       "       'tt9887154', 'tt9898328'], dtype=object)"
      ]
     },
     "execution_count": 7,
     "metadata": {},
     "output_type": "execute_result"
    }
   ],
   "source": [
    "pred_non_clique"
   ]
  },
  {
   "cell_type": "code",
   "execution_count": null,
   "metadata": {},
   "outputs": [],
   "source": []
  },
  {
   "cell_type": "code",
   "execution_count": null,
   "metadata": {},
   "outputs": [],
   "source": []
  }
 ],
 "metadata": {
  "kernelspec": {
   "display_name": "Python 3",
   "language": "python",
   "name": "python3"
  },
  "language_info": {
   "codemirror_mode": {
    "name": "ipython",
    "version": 3
   },
   "file_extension": ".py",
   "mimetype": "text/x-python",
   "name": "python",
   "nbconvert_exporter": "python",
   "pygments_lexer": "ipython3",
   "version": "3.7.7"
  }
 },
 "nbformat": 4,
 "nbformat_minor": 4
}
