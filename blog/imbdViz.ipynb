{
 "cells": [
  {
   "cell_type": "code",
   "execution_count": null,
   "metadata": {},
   "outputs": [],
   "source": [
    "import plotly.express as px\n",
    "import pandas as pd\n",
    "counts = [1, 1266, 138634, 958415, 925176, 243473, 43258, 364992]\n",
    "degrees = [\"0\", \"1\", \"2\", \"3\", \"4\", \"5\", \"6\", \">6\"]\n",
    "df = pd.DataFrame({\"Counts\": counts, \"Degrees\": degrees})\n",
    "#2.7 Million Actors' Degrees of Seperation from Kevin Bacon\n",
    "from plotly.offline import init_notebook_mode, iplot \n",
    "import plotly.graph_objs as go\n",
    "init_notebook_mode()\n",
    "data = [go.Bar(\n",
    "            x=df[\"Degrees\"],\n",
    "            y=df[\"Counts\"],\n",
    "    marker=dict(color=\"white\")\n",
    "    )]\n",
    "\n",
    "layout = go.Layout(xaxis=dict(type='category'))\n",
    "fig = go.Figure(data=data, layout=layout)\n",
    "#fig = px.bar(df, x=\"Degrees\", y=\"Counts\",title=\"\",color_discrete_sequence=[\"white\"])\n",
    "fig.update_layout(titlefont=dict(color='rgb(142,180,289)'), plot_bgcolor='rgb(32,36,44)', paper_bgcolor='rgb(32,36,44)')\n",
    "fig.update_xaxes(tickfont=dict(size=20),title_text=\"Degrees\",titlefont=dict(size=25),color='rgb(109,177,174)', showgrid=False)\n",
    "fig.update_yaxes(tickfont=dict(size=12),title_text=\"# of Actors\", color='rgb(109,177,174)', showgrid=False, titlefont=dict(size=15),gridwidth=1,gridcolor=\"rgb(109,177,174)\")\n",
    "fig.update_layout(\n",
    "    legend=dict(\n",
    "        x=.85, y=1.13,\n",
    "        font=dict(\n",
    "            color='rgb(109,177,174)'\n",
    "        )\n",
    "    )\n",
    ")\n",
    "\n",
    "fig.show()"
   ]
  },
  {
   "cell_type": "code",
   "execution_count": null,
   "metadata": {},
   "outputs": [],
   "source": [
    "fig.write_html(\"degreesOfSeperation.html\")"
   ]
  },
  {
   "cell_type": "code",
   "execution_count": null,
   "metadata": {},
   "outputs": [],
   "source": []
  }
 ],
 "metadata": {
  "kernelspec": {
   "display_name": "Python 3",
   "language": "python",
   "name": "python3"
  },
  "language_info": {
   "codemirror_mode": {
    "name": "ipython",
    "version": 3
   },
   "file_extension": ".py",
   "mimetype": "text/x-python",
   "name": "python",
   "nbconvert_exporter": "python",
   "pygments_lexer": "ipython3",
   "version": "3.7.7"
  }
 },
 "nbformat": 4,
 "nbformat_minor": 4
}
